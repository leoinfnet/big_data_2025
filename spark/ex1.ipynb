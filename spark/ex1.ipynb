{
 "cells": [
  {
   "cell_type": "code",
   "execution_count": 2,
   "id": "0d51503b-5ef2-4aba-8833-d8ff30d0196d",
   "metadata": {},
   "outputs": [],
   "source": [
    "from pyspark.sql import SparkSession\n",
    "\n",
    "spark = SparkSession.builder \\\n",
    "    .appName(\"EX1\") \\\n",
    "    .config(\"spark.jars.packages\", \"graphframes:graphframes:0.8.4-spark3.5-s_2.12\") \\\n",
    "    .getOrCreate()\n",
    "    \n"
   ]
  },
  {
   "cell_type": "code",
   "execution_count": 19,
   "id": "f33a4c16-f15f-43c9-b6c5-61ca63d4efd7",
   "metadata": {},
   "outputs": [],
   "source": [
    "from graphframes import GraphFrame"
   ]
  },
  {
   "cell_type": "code",
   "execution_count": 20,
   "id": "95fdf63f-c5ee-44bc-b92a-4beb8dd3b5a2",
   "metadata": {},
   "outputs": [],
   "source": [
    "nodes = [(1, \"Alice\", 30), (2, \"Bob\", 25), (3,\"Charlie\", 45)]"
   ]
  },
  {
   "cell_type": "code",
   "execution_count": 21,
   "id": "933fd9a1-4f11-4bf1-9168-f380de7852e4",
   "metadata": {},
   "outputs": [],
   "source": [
    " edges = [\n",
    "     (1,2,\"friend\"),\n",
    "     (2,1,\"friend\"),\n",
    "     (2,3,\"friend\"),\n",
    "     (3,2,\"enemy\"),\n",
    " ]"
   ]
  },
  {
   "cell_type": "code",
   "execution_count": 22,
   "id": "007d5c8b-9c72-47a8-a36e-010576be7a34",
   "metadata": {},
   "outputs": [],
   "source": [
    "edges_df = spark.createDataFrame(edges, [\"src\",\"dst\", \"relationship\"])"
   ]
  },
  {
   "cell_type": "code",
   "execution_count": 23,
   "id": "d1ade22f-871c-4585-b198-220398091a4c",
   "metadata": {},
   "outputs": [],
   "source": [
    "nodes_df = spark.createDataFrame(nodes,[\"id\",\"name\", \"age\"])"
   ]
  },
  {
   "cell_type": "code",
   "execution_count": 24,
   "id": "f51e2bdc-f6e0-4ab5-a510-5a267689eac0",
   "metadata": {},
   "outputs": [],
   "source": [
    "g = GraphFrame(nodes_df,edges_df)"
   ]
  },
  {
   "cell_type": "code",
   "execution_count": 11,
   "id": "947b49b3-629a-4c49-a530-f4944297c093",
   "metadata": {},
   "outputs": [
    {
     "data": {
      "text/plain": [
       "GraphFrame(v:[id: bigint, name: string ... 1 more field], e:[src: bigint, dst: bigint ... 1 more field])"
      ]
     },
     "execution_count": 11,
     "metadata": {},
     "output_type": "execute_result"
    }
   ],
   "source": [
    "g"
   ]
  },
  {
   "cell_type": "code",
   "execution_count": 13,
   "id": "84858207-9eee-4367-b7d2-4d333dac4f2f",
   "metadata": {},
   "outputs": [
    {
     "name": "stdout",
     "output_type": "stream",
     "text": [
      "+---+--------+\n",
      "| id|inDegree|\n",
      "+---+--------+\n",
      "|  2|       2|\n",
      "|  1|       1|\n",
      "|  3|       1|\n",
      "+---+--------+\n",
      "\n"
     ]
    }
   ],
   "source": [
    "g.inDegrees.show()"
   ]
  },
  {
   "cell_type": "code",
   "execution_count": 14,
   "id": "f6a122cf-db4c-4f81-ab35-9a8f36958639",
   "metadata": {},
   "outputs": [
    {
     "name": "stdout",
     "output_type": "stream",
     "text": [
      "+---+---------+\n",
      "| id|outDegree|\n",
      "+---+---------+\n",
      "|  1|        1|\n",
      "|  2|        2|\n",
      "|  3|        1|\n",
      "+---+---------+\n",
      "\n"
     ]
    }
   ],
   "source": [
    "g.outDegrees.show()"
   ]
  },
  {
   "cell_type": "code",
   "execution_count": 16,
   "id": "fde918b8-4831-4adb-99f5-bb06cebe3970",
   "metadata": {},
   "outputs": [
    {
     "name": "stdout",
     "output_type": "stream",
     "text": [
      "+---+------+\n",
      "| id|degree|\n",
      "+---+------+\n",
      "|  1|     2|\n",
      "|  2|     4|\n",
      "|  3|     2|\n",
      "+---+------+\n",
      "\n"
     ]
    }
   ],
   "source": [
    "g.degrees.show()"
   ]
  },
  {
   "cell_type": "code",
   "execution_count": 17,
   "id": "04d703a2-9177-4fe5-b60b-ab2d0053e97d",
   "metadata": {},
   "outputs": [
    {
     "name": "stdout",
     "output_type": "stream",
     "text": [
      "+---+-------+---+\n",
      "| id|   name|age|\n",
      "+---+-------+---+\n",
      "|  1|  Alice| 30|\n",
      "|  2|    Bob| 25|\n",
      "|  3|Charlie| 45|\n",
      "+---+-------+---+\n",
      "\n"
     ]
    }
   ],
   "source": [
    "g.vertices.show()"
   ]
  },
  {
   "cell_type": "code",
   "execution_count": 25,
   "id": "9d87fd94-68fd-4bf8-90c3-abae0499c07c",
   "metadata": {},
   "outputs": [
    {
     "name": "stdout",
     "output_type": "stream",
     "text": [
      "+---+---+------------+\n",
      "|src|dst|relationship|\n",
      "+---+---+------------+\n",
      "|  1|  2|      friend|\n",
      "|  2|  1|      friend|\n",
      "|  2|  3|      friend|\n",
      "|  3|  2|       enemy|\n",
      "+---+---+------------+\n",
      "\n"
     ]
    }
   ],
   "source": [
    "g.edges.show()"
   ]
  },
  {
   "cell_type": "code",
   "execution_count": 27,
   "id": "7fcf8fd8-3399-4a78-87e7-48eda86ba880",
   "metadata": {},
   "outputs": [],
   "source": [
    "import networkx as nx\n",
    "import matplotlib.pyplot as plt"
   ]
  },
  {
   "cell_type": "code",
   "execution_count": 28,
   "id": "c22a6f0b-75b5-4fd7-aebd-09636e5b5455",
   "metadata": {},
   "outputs": [],
   "source": [
    "edges_with_labels = g.edges.select(\"src\", \"dst\", \"relationship\").rdd.map(lambda row: (row.src, row.dst, row.relationship)).collect()\n"
   ]
  },
  {
   "cell_type": "code",
   "execution_count": 29,
   "id": "c975b492-593a-4186-9d15-bbbb0145be87",
   "metadata": {},
   "outputs": [
    {
     "data": {
      "image/png": "[encoded data removed]",
      "text/plain": [
       "<Figure size 1000x800 with 1 Axes>"
      ]
     },
     "metadata": {},
     "output_type": "display_data"
    }
   ],
   "source": [
    "# Criar grafo NetworkX\n",
    "nx_graph = nx.DiGraph()  # Use nx.Graph() se for não-direcionado\n",
    "\n",
    "# Adicionar arestas com labels\n",
    "for src, dst, relationship in edges_with_labels:\n",
    "    nx_graph.add_edge(src, dst, label=relationship)\n",
    "\n",
    "# Layout para o desenho\n",
    "pos = nx.spring_layout(nx_graph)\n",
    "\n",
    "# Desenhar nós e arestas\n",
    "plt.figure(figsize=(10, 8))\n",
    "nx.draw(nx_graph, pos, with_labels=True, node_color='lightblue', node_size=500, font_size=10, arrows=True)\n",
    "\n",
    "# Pegar labels das arestas\n",
    "edge_labels = nx.get_edge_attributes(nx_graph, 'label')\n",
    "\n",
    "# Desenhar labels das arestas\n",
    "nx.draw_networkx_edge_labels(nx_graph, pos, edge_labels=edge_labels, font_color='red', font_size=8)\n",
    "\n",
    "plt.show()"
   ]
  }
 ],
 "metadata": {
  "kernelspec": {
   "display_name": "Python 3 (ipykernel)",
   "language": "python",
   "name": "python3"
  },
  "language_info": {
   "codemirror_mode": {
    "name": "ipython",
    "version": 3
   },
   "file_extension": ".py",
   "mimetype": "text/x-python",
   "name": "python",
   "nbconvert_exporter": "python",
   "pygments_lexer": "ipython3",
   "version": "3.11.6"
  }
 },
 "nbformat": 4,
 "nbformat_minor": 5
}
