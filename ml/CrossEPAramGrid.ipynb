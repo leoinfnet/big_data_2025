{
 "cells": [
  {
   "cell_type": "code",
   "execution_count": 2,
   "id": "a734e3bf-6299-43e1-b253-3ef01642c2d0",
   "metadata": {},
   "outputs": [],
   "source": [
    "from pyspark.sql import SparkSession\n",
    "spark = SparkSession.builder \\\n",
    "    .appName(\"Ferramentas\") \\\n",
    "    .getOrCreate()"
   ]
  },
  {
   "cell_type": "code",
   "execution_count": 3,
   "id": "9215fb23-e3b9-4ff0-a68b-0f4a4fe576e1",
   "metadata": {},
   "outputs": [
    {
     "name": "stdout",
     "output_type": "stream",
     "text": [
      "+-------+---------+----------------+---------------+-----------------+-----------+------+\n",
      "|species|   island|culmen_length_mm|culmen_depth_mm|flipper_length_mm|body_mass_g|   sex|\n",
      "+-------+---------+----------------+---------------+-----------------+-----------+------+\n",
      "| Adelie|Torgersen|            39.1|           18.7|              181|       3750|  MALE|\n",
      "| Adelie|Torgersen|            39.5|           17.4|              186|       3800|FEMALE|\n",
      "| Adelie|Torgersen|            40.3|             18|              195|       3250|FEMALE|\n",
      "| Adelie|Torgersen|              NA|             NA|               NA|         NA|    NA|\n",
      "| Adelie|Torgersen|            36.7|           19.3|              193|       3450|FEMALE|\n",
      "+-------+---------+----------------+---------------+-----------------+-----------+------+\n",
      "only showing top 5 rows\n",
      "\n"
     ]
    }
   ],
   "source": [
    "df = spark.read.csv(\"penguins_size.csv\", header=True,inferSchema=True)\n",
    "df.show(5)"
   ]
  },
  {
   "cell_type": "code",
   "execution_count": 4,
   "id": "b00493b4-77f4-439f-82e2-244e40a6e436",
   "metadata": {},
   "outputs": [
    {
     "name": "stdout",
     "output_type": "stream",
     "text": [
      "root\n",
      " |-- species: string (nullable = true)\n",
      " |-- island: string (nullable = true)\n",
      " |-- culmen_length_mm: string (nullable = true)\n",
      " |-- culmen_depth_mm: string (nullable = true)\n",
      " |-- flipper_length_mm: string (nullable = true)\n",
      " |-- body_mass_g: string (nullable = true)\n",
      " |-- sex: string (nullable = true)\n",
      "\n"
     ]
    }
   ],
   "source": [
    "df.printSchema()"
   ]
  },
  {
   "cell_type": "code",
   "execution_count": 6,
   "id": "f5c8ad0b-93bf-4b66-97ea-65018a292769",
   "metadata": {},
   "outputs": [
    {
     "name": "stdout",
     "output_type": "stream",
     "text": [
      "root\n",
      " |-- species: string (nullable = true)\n",
      " |-- island: string (nullable = true)\n",
      " |-- culmen_length_mm: double (nullable = true)\n",
      " |-- culmen_depth_mm: double (nullable = true)\n",
      " |-- flipper_length_mm: double (nullable = true)\n",
      " |-- body_mass_g: double (nullable = true)\n",
      " |-- sex: string (nullable = true)\n",
      "\n"
     ]
    }
   ],
   "source": [
    "from pyspark.sql.functions import col\n",
    "from pyspark.sql.types import DoubleType\n",
    "\n",
    "df = df.withColumn(\"culmen_length_mm\", col(\"culmen_length_mm\").cast(DoubleType()))\n",
    "df = df.withColumn(\"culmen_depth_mm\", col(\"culmen_depth_mm\").cast(DoubleType()))\n",
    "df = df.withColumn(\"flipper_length_mm\", col(\"flipper_length_mm\").cast(DoubleType()))\n",
    "df = df.withColumn(\"body_mass_g\", col(\"body_mass_g\").cast(DoubleType()))\n",
    "df.printSchema()"
   ]
  },
  {
   "cell_type": "code",
   "execution_count": 10,
   "id": "c039d599-8c6a-4d6e-9bdd-680a75927442",
   "metadata": {},
   "outputs": [
    {
     "name": "stdout",
     "output_type": "stream",
     "text": [
      "+-------+---------+----------------+---------------+-----------------+-----------+------+\n",
      "|species|   island|culmen_length_mm|culmen_depth_mm|flipper_length_mm|body_mass_g|   sex|\n",
      "+-------+---------+----------------+---------------+-----------------+-----------+------+\n",
      "| Adelie|Torgersen|            39.1|           18.7|            181.0|     3750.0|  MALE|\n",
      "| Adelie|Torgersen|            39.5|           17.4|            186.0|     3800.0|FEMALE|\n",
      "| Adelie|Torgersen|            40.3|           18.0|            195.0|     3250.0|FEMALE|\n",
      "| Adelie|Torgersen|            NULL|           NULL|             NULL|       NULL|    NA|\n",
      "| Adelie|Torgersen|            36.7|           19.3|            193.0|     3450.0|FEMALE|\n",
      "+-------+---------+----------------+---------------+-----------------+-----------+------+\n",
      "only showing top 5 rows\n",
      "\n"
     ]
    }
   ],
   "source": [
    "df.show(5)"
   ]
  },
  {
   "cell_type": "code",
   "execution_count": 11,
   "id": "70ee65a3-9e17-4a38-bcf8-3081659ce081",
   "metadata": {},
   "outputs": [
    {
     "name": "stdout",
     "output_type": "stream",
     "text": [
      "+-------+---------+----------------+---------------+-----------------+-----------+------+\n",
      "|species|   island|culmen_length_mm|culmen_depth_mm|flipper_length_mm|body_mass_g|   sex|\n",
      "+-------+---------+----------------+---------------+-----------------+-----------+------+\n",
      "| Adelie|Torgersen|            39.1|           18.7|            181.0|     3750.0|  MALE|\n",
      "| Adelie|Torgersen|            39.5|           17.4|            186.0|     3800.0|FEMALE|\n",
      "| Adelie|Torgersen|            40.3|           18.0|            195.0|     3250.0|FEMALE|\n",
      "| Adelie|Torgersen|            36.7|           19.3|            193.0|     3450.0|FEMALE|\n",
      "| Adelie|Torgersen|            39.3|           20.6|            190.0|     3650.0|  MALE|\n",
      "+-------+---------+----------------+---------------+-----------------+-----------+------+\n",
      "only showing top 5 rows\n",
      "\n"
     ]
    }
   ],
   "source": [
    "df_limpo = df.dropna()\n",
    "df_limpo.show(5)"
   ]
  },
  {
   "cell_type": "code",
   "execution_count": 18,
   "id": "711494e9-e47f-4eaa-8cb5-10925257373b",
   "metadata": {},
   "outputs": [],
   "source": [
    "from pyspark.ml.feature import StringIndexer\n",
    "indexador_species = StringIndexer(inputCol=\"species\", outputCol=\"species_idx\", handleInvalid=\"keep\")\n",
    "indexador_island = StringIndexer(inputCol=\"island\", outputCol=\"island_idx\", handleInvalid=\"keep\")\n",
    "indexador_sex = StringIndexer(inputCol=\"sex\", outputCol=\"sex_idx\", handleInvalid=\"keep\")\n",
    "\n",
    "df_indexado = indexador_species.fit(df_limpo).transform(df_limpo)\n",
    "df_indexado = indexador_island.fit(df_limpo).transform(df_indexado)\n",
    "df_indexado = indexador_sex.fit(df_limpo).transform(df_indexado)"
   ]
  },
  {
   "cell_type": "code",
   "execution_count": 20,
   "id": "bc4918af-957e-4b83-9462-a090ee0be69c",
   "metadata": {},
   "outputs": [
    {
     "name": "stdout",
     "output_type": "stream",
     "text": [
      "+-------+---------+----------------+---------------+-----------------+-----------+------+-----------+----------+-------+\n",
      "|species|   island|culmen_length_mm|culmen_depth_mm|flipper_length_mm|body_mass_g|   sex|species_idx|island_idx|sex_idx|\n",
      "+-------+---------+----------------+---------------+-----------------+-----------+------+-----------+----------+-------+\n",
      "| Adelie|Torgersen|            39.1|           18.7|            181.0|     3750.0|  MALE|        0.0|       2.0|    0.0|\n",
      "| Adelie|Torgersen|            39.5|           17.4|            186.0|     3800.0|FEMALE|        0.0|       2.0|    1.0|\n",
      "| Adelie|Torgersen|            40.3|           18.0|            195.0|     3250.0|FEMALE|        0.0|       2.0|    1.0|\n",
      "+-------+---------+----------------+---------------+-----------------+-----------+------+-----------+----------+-------+\n",
      "only showing top 3 rows\n",
      "\n"
     ]
    }
   ],
   "source": [
    "df_indexado.show(3)"
   ]
  },
  {
   "cell_type": "code",
   "execution_count": 23,
   "id": "29485ff0-59db-4842-a39f-99a42bc9d457",
   "metadata": {},
   "outputs": [],
   "source": [
    "from pyspark.ml.feature import OneHotEncoder\n",
    "encoder = OneHotEncoder(\n",
    " inputCols= [\"species_idx\",\"island_idx\",\"sex_idx\"],\n",
    " outputCols = [\"species_vec\",\"island_vec\",\"sex_vec\"]\n",
    ")\n",
    "df_codificado = encoder.fit(df_indexado).transform(df_indexado)"
   ]
  },
  {
   "cell_type": "code",
   "execution_count": 24,
   "id": "e3715e87-c2d9-46f4-845b-becc58a0ed86",
   "metadata": {},
   "outputs": [
    {
     "name": "stdout",
     "output_type": "stream",
     "text": [
      "+-------+---------+----------------+---------------+-----------------+-----------+------+-----------+----------+-------+-------------+-------------+-------------+\n",
      "|species|   island|culmen_length_mm|culmen_depth_mm|flipper_length_mm|body_mass_g|   sex|species_idx|island_idx|sex_idx|  species_vec|   island_vec|      sex_vec|\n",
      "+-------+---------+----------------+---------------+-----------------+-----------+------+-----------+----------+-------+-------------+-------------+-------------+\n",
      "| Adelie|Torgersen|            39.1|           18.7|            181.0|     3750.0|  MALE|        0.0|       2.0|    0.0|(3,[0],[1.0])|(3,[2],[1.0])|(4,[0],[1.0])|\n",
      "| Adelie|Torgersen|            39.5|           17.4|            186.0|     3800.0|FEMALE|        0.0|       2.0|    1.0|(3,[0],[1.0])|(3,[2],[1.0])|(4,[1],[1.0])|\n",
      "| Adelie|Torgersen|            40.3|           18.0|            195.0|     3250.0|FEMALE|        0.0|       2.0|    1.0|(3,[0],[1.0])|(3,[2],[1.0])|(4,[1],[1.0])|\n",
      "+-------+---------+----------------+---------------+-----------------+-----------+------+-----------+----------+-------+-------------+-------------+-------------+\n",
      "only showing top 3 rows\n",
      "\n"
     ]
    }
   ],
   "source": [
    "df_codificado.show(3)"
   ]
  },
  {
   "cell_type": "code",
   "execution_count": 27,
   "id": "c39c2713-dcb2-43e8-a980-8531d6cc0b72",
   "metadata": {},
   "outputs": [],
   "source": [
    "from pyspark.ml.feature import StandardScaler, VectorAssembler\n",
    "\n",
    "vetor_numericos = VectorAssembler(\n",
    "    inputCols= [\"culmen_length_mm\", \"culmen_depth_mm\", \"flipper_length_mm\", \"body_mass_g\"],\n",
    "    outputCol= \"raw_numericos\"\n",
    ")\n",
    "df_com_raw = vetor_numericos.transform(df_codificado)"
   ]
  },
  {
   "cell_type": "code",
   "execution_count": 28,
   "id": "fc14d9bd-8143-4033-a822-c3e349010f4e",
   "metadata": {},
   "outputs": [
    {
     "name": "stdout",
     "output_type": "stream",
     "text": [
      "+-------+---------+----------------+---------------+-----------------+-----------+------+-----------+----------+-------+-------------+-------------+-------------+--------------------+\n",
      "|species|   island|culmen_length_mm|culmen_depth_mm|flipper_length_mm|body_mass_g|   sex|species_idx|island_idx|sex_idx|  species_vec|   island_vec|      sex_vec|       raw_numericos|\n",
      "+-------+---------+----------------+---------------+-----------------+-----------+------+-----------+----------+-------+-------------+-------------+-------------+--------------------+\n",
      "| Adelie|Torgersen|            39.1|           18.7|            181.0|     3750.0|  MALE|        0.0|       2.0|    0.0|(3,[0],[1.0])|(3,[2],[1.0])|(4,[0],[1.0])|[39.1,18.7,181.0,...|\n",
      "| Adelie|Torgersen|            39.5|           17.4|            186.0|     3800.0|FEMALE|        0.0|       2.0|    1.0|(3,[0],[1.0])|(3,[2],[1.0])|(4,[1],[1.0])|[39.5,17.4,186.0,...|\n",
      "+-------+---------+----------------+---------------+-----------------+-----------+------+-----------+----------+-------+-------------+-------------+-------------+--------------------+\n",
      "only showing top 2 rows\n",
      "\n"
     ]
    }
   ],
   "source": [
    "df_com_raw.show(2)"
   ]
  },
  {
   "cell_type": "code",
   "execution_count": 29,
   "id": "f9c8995f-67fc-4b0e-a78e-39728cf1e49c",
   "metadata": {},
   "outputs": [],
   "source": [
    "scaler = StandardScaler(\n",
    "    inputCol=\"raw_numericos\",\n",
    "    outputCol=\"numericos_padronizados\",\n",
    "    withMean=True,\n",
    "    withStd=True\n",
    "    \n",
    ")\n",
    "scaler_model = scaler.fit(df_com_raw)\n",
    "df_escalado  = scaler_model.transform(df_com_raw) "
   ]
  },
  {
   "cell_type": "code",
   "execution_count": 34,
   "id": "2947a7f8-84d4-446a-b3c9-70ec40180ec0",
   "metadata": {},
   "outputs": [
    {
     "name": "stdout",
     "output_type": "stream",
     "text": [
      "+-------+---------+----------------+---------------+-----------------+-----------+------+-----------+----------+-------+-------------+-------------+-------------+--------------------+----------------------+\n",
      "|species|   island|culmen_length_mm|culmen_depth_mm|flipper_length_mm|body_mass_g|   sex|species_idx|island_idx|sex_idx|  species_vec|   island_vec|      sex_vec|       raw_numericos|numericos_padronizados|\n",
      "+-------+---------+----------------+---------------+-----------------+-----------+------+-----------+----------+-------+-------------+-------------+-------------+--------------------+----------------------+\n",
      "| Adelie|Torgersen|            39.1|           18.7|            181.0|     3750.0|  MALE|        0.0|       2.0|    0.0|(3,[0],[1.0])|(3,[2],[1.0])|(4,[0],[1.0])|[39.1,18.7,181.0,...|  [-0.8832046685650...|\n",
      "| Adelie|Torgersen|            39.5|           17.4|            186.0|     3800.0|FEMALE|        0.0|       2.0|    1.0|(3,[0],[1.0])|(3,[2],[1.0])|(4,[1],[1.0])|[39.5,17.4,186.0,...|  [-0.8099390093207...|\n",
      "| Adelie|Torgersen|            40.3|           18.0|            195.0|     3250.0|FEMALE|        0.0|       2.0|    1.0|(3,[0],[1.0])|(3,[2],[1.0])|(4,[1],[1.0])|[40.3,18.0,195.0,...|  [-0.6634076908322...|\n",
      "| Adelie|Torgersen|            36.7|           19.3|            193.0|     3450.0|FEMALE|        0.0|       2.0|    1.0|(3,[0],[1.0])|(3,[2],[1.0])|(4,[1],[1.0])|[36.7,19.3,193.0,...|  [-1.3227986240305...|\n",
      "| Adelie|Torgersen|            39.3|           20.6|            190.0|     3650.0|  MALE|        0.0|       2.0|    0.0|(3,[0],[1.0])|(3,[2],[1.0])|(4,[0],[1.0])|[39.3,20.6,190.0,...|  [-0.8465718389428...|\n",
      "| Adelie|Torgersen|            38.9|           17.8|            181.0|     3625.0|FEMALE|        0.0|       2.0|    1.0|(3,[0],[1.0])|(3,[2],[1.0])|(4,[1],[1.0])|[38.9,17.8,181.0,...|  [-0.9198374981871...|\n",
      "| Adelie|Torgersen|            39.2|           19.6|            195.0|     4675.0|  MALE|        0.0|       2.0|    0.0|(3,[0],[1.0])|(3,[2],[1.0])|(4,[0],[1.0])|[39.2,19.6,195.0,...|  [-0.8648882537539...|\n",
      "| Adelie|Torgersen|            34.1|           18.1|            193.0|     3475.0|    NA|        0.0|       2.0|    2.0|(3,[0],[1.0])|(3,[2],[1.0])|(4,[2],[1.0])|[34.1,18.1,193.0,...|  [-1.7990254091181...|\n",
      "| Adelie|Torgersen|            42.0|           20.2|            190.0|     4250.0|    NA|        0.0|       2.0|    2.0|(3,[0],[1.0])|(3,[2],[1.0])|(4,[2],[1.0])|[42.0,20.2,190.0,...|  [-0.3520286390441...|\n",
      "| Adelie|Torgersen|            37.8|           17.1|            186.0|     3300.0|    NA|        0.0|       2.0|    2.0|(3,[0],[1.0])|(3,[2],[1.0])|(4,[2],[1.0])|[37.8,17.1,186.0,...|  [-1.1213180611088...|\n",
      "| Adelie|Torgersen|            37.8|           17.3|            180.0|     3700.0|    NA|        0.0|       2.0|    2.0|(3,[0],[1.0])|(3,[2],[1.0])|(4,[2],[1.0])|[37.8,17.3,180.0,...|  [-1.1213180611088...|\n",
      "| Adelie|Torgersen|            41.1|           17.6|            182.0|     3200.0|FEMALE|        0.0|       2.0|    1.0|(3,[0],[1.0])|(3,[2],[1.0])|(4,[1],[1.0])|[41.1,17.6,182.0,...|  [-0.5168763723437...|\n",
      "| Adelie|Torgersen|            38.6|           21.2|            191.0|     3800.0|  MALE|        0.0|       2.0|    0.0|(3,[0],[1.0])|(3,[2],[1.0])|(4,[0],[1.0])|[38.6,21.2,191.0,...|  [-0.9747867426203...|\n",
      "| Adelie|Torgersen|            34.6|           21.1|            198.0|     4400.0|  MALE|        0.0|       2.0|    0.0|(3,[0],[1.0])|(3,[2],[1.0])|(4,[0],[1.0])|[34.6,21.1,198.0,...|  [-1.7074433350628...|\n",
      "| Adelie|Torgersen|            36.6|           17.8|            185.0|     3700.0|FEMALE|        0.0|       2.0|    1.0|(3,[0],[1.0])|(3,[2],[1.0])|(4,[1],[1.0])|[36.6,17.8,185.0,...|  [-1.3411150388415...|\n",
      "| Adelie|Torgersen|            38.7|           19.0|            195.0|     3450.0|FEMALE|        0.0|       2.0|    1.0|(3,[0],[1.0])|(3,[2],[1.0])|(4,[1],[1.0])|[38.7,19.0,195.0,...|  [-0.9564703278092...|\n",
      "| Adelie|Torgersen|            42.5|           20.7|            197.0|     4500.0|  MALE|        0.0|       2.0|    0.0|(3,[0],[1.0])|(3,[2],[1.0])|(4,[0],[1.0])|[42.5,20.7,197.0,...|  [-0.2604465649888...|\n",
      "| Adelie|Torgersen|            34.4|           18.4|            184.0|     3325.0|FEMALE|        0.0|       2.0|    1.0|(3,[0],[1.0])|(3,[2],[1.0])|(4,[1],[1.0])|[34.4,18.4,184.0,...|  [-1.7440761646849...|\n",
      "| Adelie|Torgersen|            46.0|           21.5|            194.0|     4200.0|  MALE|        0.0|       2.0|    0.0|(3,[0],[1.0])|(3,[2],[1.0])|(4,[0],[1.0])|[46.0,21.5,194.0,...|  [0.38062795339830...|\n",
      "| Adelie|   Biscoe|            37.8|           18.3|            174.0|     3400.0|FEMALE|        0.0|       0.0|    1.0|(3,[0],[1.0])|(3,[0],[1.0])|(4,[1],[1.0])|[37.8,18.3,174.0,...|  [-1.1213180611088...|\n",
      "+-------+---------+----------------+---------------+-----------------+-----------+------+-----------+----------+-------+-------------+-------------+-------------+--------------------+----------------------+\n",
      "only showing top 20 rows\n",
      "\n"
     ]
    }
   ],
   "source": [
    "df_escalado.show()"
   ]
  },
  {
   "cell_type": "code",
   "execution_count": 32,
   "id": "34a0e8f8-7141-4b5c-a5d7-ec09ff2dc406",
   "metadata": {},
   "outputs": [
    {
     "name": "stdout",
     "output_type": "stream",
     "text": [
      "+------------------------+---------------------------------------------------------------------------------+\n",
      "|raw_numericos           |numericos_padronizados                                                           |\n",
      "+------------------------+---------------------------------------------------------------------------------+\n",
      "|[39.1,18.7,181.0,3750.0]|[-0.8832046685650078,0.7843000691036092,-1.4162715251128077,-0.5633167041965338] |\n",
      "|[39.5,17.4,186.0,3800.0]|[-0.8099390093207578,0.12600327710160344,-1.0606960871531967,-0.5009690301398301]|\n",
      "|[40.3,18.0,195.0,3250.0]|[-0.6634076908322577,0.4298325657179143,-0.42066029882589706,-1.1867934447635713]|\n",
      "|[36.7,19.3,193.0,3450.0]|[-1.3227986240305092,1.08812935771992,-0.5628904740097415,-0.9374027485367562]   |\n",
      "|[39.3,20.6,190.0,3650.0]|[-0.8465718389428835,1.7464261497219258,-0.776235736785508,-0.6880120523099412]  |\n",
      "+------------------------+---------------------------------------------------------------------------------+\n",
      "only showing top 5 rows\n",
      "\n"
     ]
    }
   ],
   "source": [
    "df_escalado.select('raw_numericos', 'numericos_padronizados').show(5,truncate=False)"
   ]
  },
  {
   "cell_type": "code",
   "execution_count": 36,
   "id": "b0717759-678c-4718-a7ce-0b9eef031d81",
   "metadata": {},
   "outputs": [
    {
     "name": "stdout",
     "output_type": "stream",
     "text": [
      "+-------------------------------------------------------------------------------------------------------------------+------+\n",
      "|features                                                                                                           |label |\n",
      "+-------------------------------------------------------------------------------------------------------------------+------+\n",
      "|(14,[0,1,2,3,4,9,10],[-0.8832046685650078,0.7843000691036092,-1.4162715251128077,-0.5633167041965338,1.0,1.0,1.0]) |3750.0|\n",
      "|(14,[0,1,2,3,4,9,11],[-0.8099390093207578,0.12600327710160344,-1.0606960871531967,-0.5009690301398301,1.0,1.0,1.0])|3800.0|\n",
      "|(14,[0,1,2,3,4,9,11],[-0.6634076908322577,0.4298325657179143,-0.42066029882589706,-1.1867934447635713,1.0,1.0,1.0])|3250.0|\n",
      "|(14,[0,1,2,3,4,9,11],[-1.3227986240305092,1.08812935771992,-0.5628904740097415,-0.9374027485367562,1.0,1.0,1.0])   |3450.0|\n",
      "|(14,[0,1,2,3,4,9,10],[-0.8465718389428835,1.7464261497219258,-0.776235736785508,-0.6880120523099412,1.0,1.0,1.0])  |3650.0|\n",
      "+-------------------------------------------------------------------------------------------------------------------+------+\n",
      "only showing top 5 rows\n",
      "\n"
     ]
    }
   ],
   "source": [
    "assembler_final = VectorAssembler(\n",
    "    inputCols=['numericos_padronizados','species_vec','island_vec', 'sex_vec'],\n",
    "    outputCol=\"features\"\n",
    ")\n",
    "df_final = assembler_final.transform(df_escalado) \\\n",
    "            .select(\"features\",'body_mass_g') \\\n",
    "            .withColumnRenamed(\"body_mass_g\", \"label\")\n",
    "\n",
    "df_final.show(5,truncate=False)\n"
   ]
  },
  {
   "cell_type": "code",
   "execution_count": 37,
   "id": "e0fb65d2-cac3-460c-81ab-491e7ccf7ecc",
   "metadata": {},
   "outputs": [],
   "source": [
    "from pyspark.ml.regression import RandomForestRegressor\n",
    "from pyspark.ml.evaluation import RegressionEvaluator"
   ]
  },
  {
   "cell_type": "code",
   "execution_count": 46,
   "id": "6c66cae2-8737-4bd1-89ac-99fc1f3856a3",
   "metadata": {},
   "outputs": [],
   "source": [
    "treino, teste = df_final.randomSplit([0.8,0.2],seed=42)"
   ]
  },
  {
   "cell_type": "code",
   "execution_count": 56,
   "id": "f6763a7a-2a2f-4291-aafd-a711fb8959f9",
   "metadata": {},
   "outputs": [],
   "source": [
    "rf1 = RandomForestRegressor(\n",
    "    featuresCol=\"features\",\n",
    "    labelCol=\"label\",\n",
    "    maxDepth=1,\n",
    "    numTrees=10,\n",
    "    seed=42\n",
    ")"
   ]
  },
  {
   "cell_type": "code",
   "execution_count": 39,
   "id": "0e4abef5-e88e-4431-b5a9-84620f9d4a83",
   "metadata": {},
   "outputs": [],
   "source": [
    "evaluator_rmse_rf1 = RegressionEvaluator(\n",
    "    labelCol= \"label\",\n",
    "    predictionCol=\"prediction\",\n",
    "    metricName=\"rmse\"\n",
    ")\n",
    "evaluator_r2_rf1 = RegressionEvaluator(\n",
    "    labelCol= \"label\",\n",
    "    predictionCol=\"prediction\",\n",
    "    metricName=\"r2\"\n",
    ")"
   ]
  },
  {
   "cell_type": "code",
   "execution_count": 51,
   "id": "d70322c1-14f9-4472-a56c-7aa368ff238f",
   "metadata": {},
   "outputs": [],
   "source": [
    "modelo1 = rf1.fit(treino)"
   ]
  },
  {
   "cell_type": "code",
   "execution_count": 52,
   "id": "da0e0944-c122-4b0d-82ab-de3cf6782fc0",
   "metadata": {},
   "outputs": [],
   "source": [
    "previsoes1 = modelo1.transform(teste)"
   ]
  },
  {
   "cell_type": "code",
   "execution_count": 44,
   "id": "089e4acd-35a9-4483-9604-afd37d33166c",
   "metadata": {},
   "outputs": [],
   "source": [
    "rsme1 = evaluator_rmse_rf1.evaluate(previsoes1)\n",
    "r2 = evaluator_r2_rf1.evaluate(previsoes1)"
   ]
  },
  {
   "cell_type": "code",
   "execution_count": 45,
   "id": "dd7aeb8b-5a50-45d6-b92d-52eedf5b0cba",
   "metadata": {},
   "outputs": [
    {
     "name": "stdout",
     "output_type": "stream",
     "text": [
      "RMSE do modelo1: 69.32\n",
      "R2 do modelo1: 0.99\n"
     ]
    }
   ],
   "source": [
    "print(f\"RMSE do modelo1: {rsme1:.2f}\")\n",
    "print(f\"R2 do modelo1: {r2:.2f}\")"
   ]
  },
  {
   "cell_type": "code",
   "execution_count": 49,
   "id": "3ebcf322-21df-47b1-9146-d13b814e4f02",
   "metadata": {},
   "outputs": [
    {
     "name": "stdout",
     "output_type": "stream",
     "text": [
      "RMSE do modelo1: 154.04\n",
      "R2 do modelo1: 0.96\n"
     ]
    }
   ],
   "source": [
    "rsme1 = evaluator_rmse_rf1.evaluate(previsoes1)\n",
    "r2 = evaluator_r2_rf1.evaluate(previsoes1)\n",
    "print(f\"RMSE do modelo1: {rsme1:.2f}\")\n",
    "print(f\"R2 do modelo1: {r2:.2f}\")"
   ]
  },
  {
   "cell_type": "code",
   "execution_count": 53,
   "id": "7029ddbf-24bf-4a01-a14a-22c8b55fffbd",
   "metadata": {},
   "outputs": [
    {
     "name": "stdout",
     "output_type": "stream",
     "text": [
      "RMSE do modelo1: 504.99\n",
      "R2 do modelo1: 0.60\n"
     ]
    }
   ],
   "source": [
    "rsme1 = evaluator_rmse_rf1.evaluate(previsoes1)\n",
    "r2 = evaluator_r2_rf1.evaluate(previsoes1)\n",
    "print(f\"RMSE do modelo1: {rsme1:.2f}\")\n",
    "print(f\"R2 do modelo1: {r2:.2f}\")"
   ]
  },
  {
   "cell_type": "code",
   "execution_count": 54,
   "id": "4e57f425-a93f-42ba-b634-baa8970d5166",
   "metadata": {},
   "outputs": [],
   "source": [
    "from pyspark.ml.tuning import TrainValidationSplit, ParamGridBuilder\n"
   ]
  },
  {
   "cell_type": "code",
   "execution_count": 55,
   "id": "4653a034-dff4-49b6-b7f1-86fc95ccaa0b",
   "metadata": {},
   "outputs": [],
   "source": [
    "rf2 = RandomForestRegressor(\n",
    "    featuresCol=\"features\",\n",
    "    labelCol=\"label\",\n",
    "    seed=42\n",
    ")"
   ]
  },
  {
   "cell_type": "code",
   "execution_count": 57,
   "id": "834b6fc1-0fbb-4589-a5d0-ba7557f4765b",
   "metadata": {},
   "outputs": [],
   "source": [
    "param_grid = ParamGridBuilder() \\\n",
    "    .addGrid(rf2.maxDepth,[1,3,5,10,15]) \\\n",
    "    .addGrid(rf2.numTrees,[1,5,10,20]) \\\n",
    "    .build()\n"
   ]
  },
  {
   "cell_type": "code",
   "execution_count": 58,
   "id": "d8795079-2321-4f85-a4c4-37f55224405f",
   "metadata": {},
   "outputs": [],
   "source": [
    "evaluator_novo = RegressionEvaluator(\n",
    "    labelCol= \"label\",\n",
    "    predictionCol=\"prediction\",\n",
    "    metricName=\"rmse\"\n",
    ")"
   ]
  },
  {
   "cell_type": "code",
   "execution_count": 62,
   "id": "efab81c7-f155-450b-82e8-03ed3736d2b4",
   "metadata": {},
   "outputs": [],
   "source": [
    "tvs = TrainValidationSplit(\n",
    "    estimator=rf2,\n",
    "    evaluator=evaluator_novo,\n",
    "    estimatorParamMaps=param_grid,\n",
    "    trainRatio=0.8,\n",
    "    parallelism=2\n",
    ")"
   ]
  },
  {
   "cell_type": "code",
   "execution_count": 63,
   "id": "c39116df-6b9b-4ebc-843c-0987e2db2e71",
   "metadata": {},
   "outputs": [],
   "source": [
    "tvs_modelo = tvs.fit(treino)"
   ]
  },
  {
   "cell_type": "code",
   "execution_count": 65,
   "id": "1f0e08b7-dbe6-45a1-9ed6-473d7f045f03",
   "metadata": {},
   "outputs": [],
   "source": [
    "predicoes = tvs_modelo.transform(teste)"
   ]
  },
  {
   "cell_type": "code",
   "execution_count": 68,
   "id": "156fd18f-eeb4-484d-8ae6-e36e5910178b",
   "metadata": {},
   "outputs": [],
   "source": [
    "evaluator_r2_novo = RegressionEvaluator(\n",
    "    labelCol= \"label\",\n",
    "    predictionCol=\"prediction\",\n",
    "    metricName=\"r2\"\n",
    ")\n",
    "r2_grid = evaluator_r2_novo.evaluate(predicoes)\n",
    "rsme_grid = evaluator_novo.evaluate(predicoes)\n"
   ]
  },
  {
   "cell_type": "code",
   "execution_count": 69,
   "id": "c7530219-d03a-4129-b29b-7b1a932750a7",
   "metadata": {},
   "outputs": [
    {
     "name": "stdout",
     "output_type": "stream",
     "text": [
      "RMSE do modelo1: 88.47\n",
      "R2 do modelo1: 0.99\n"
     ]
    }
   ],
   "source": [
    "print(f\"RMSE do modelo1: {rsme_grid:.2f}\")\n",
    "print(f\"R2 do modelo1: {r2_grid:.2f}\")"
   ]
  },
  {
   "cell_type": "code",
   "execution_count": 70,
   "id": "f7a8e5a1-bde9-4ff5-b430-52bb7d35ddf5",
   "metadata": {},
   "outputs": [],
   "source": [
    "melhor_modelo = tvs_modelo.bestModel"
   ]
  },
  {
   "cell_type": "code",
   "execution_count": 73,
   "id": "824b59b2-04b9-4895-9a38-b331b6333268",
   "metadata": {},
   "outputs": [
    {
     "name": "stdout",
     "output_type": "stream",
     "text": [
      "\n",
      " Melhor Combinacao de Hiperparametros:\n",
      " -> MaxDepth: 5 \n",
      " -> NumTrees: 1 \n"
     ]
    }
   ],
   "source": [
    "print(\"\\n Melhor Combinacao de Hiperparametros:\")\n",
    "print(f\" -> MaxDepth: {melhor_modelo.getOrDefault('maxDepth')} \")\n",
    "print(f\" -> NumTrees: {melhor_modelo.getOrDefault('numTrees') } \")"
   ]
  },
  {
   "cell_type": "code",
   "execution_count": 78,
   "id": "3b2f30a6-a7e1-40fb-94f4-59057a95b7b3",
   "metadata": {},
   "outputs": [],
   "source": [
    "from pyspark.ml.tuning import CrossValidator\n",
    "\n",
    "rf = RandomForestRegressor(featuresCol=\"features\",labelCol=\"label\",seed=42)"
   ]
  },
  {
   "cell_type": "code",
   "execution_count": 79,
   "id": "580f59f7-e905-4c86-94c5-2e06ca108f4a",
   "metadata": {},
   "outputs": [],
   "source": [
    "param_grid = ParamGridBuilder() \\\n",
    "        .addGrid(rf.maxDepth,[3,5,10])\\\n",
    "        .addGrid(rf.numTrees,[10,20])\\\n",
    "        .build()"
   ]
  },
  {
   "cell_type": "code",
   "execution_count": 80,
   "id": "eea26369-88e8-4544-90e8-668be3609387",
   "metadata": {},
   "outputs": [],
   "source": [
    "evaluator = RegressionEvaluator(labelCol=\"label\", predictionCol=\"prediction\", metricName=\"rmse\")\n"
   ]
  },
  {
   "cell_type": "code",
   "execution_count": 83,
   "id": "6ce45b65-d65b-4842-b554-498d3d422cea",
   "metadata": {},
   "outputs": [],
   "source": [
    "cv = CrossValidator(\n",
    "    estimator=rf,\n",
    "    estimatorParamMaps=param_grid,\n",
    "    evaluator=evaluator,\n",
    "    numFolds=3,\n",
    "    parallelism=2\n",
    ")"
   ]
  },
  {
   "cell_type": "code",
   "execution_count": 84,
   "id": "d47f989b-8c21-487b-8b30-1c72abbbaa0c",
   "metadata": {},
   "outputs": [],
   "source": [
    "modelo_cv = cv.fit(df_final)"
   ]
  },
  {
   "cell_type": "code",
   "execution_count": 85,
   "id": "e4cd5c7b-a603-4393-8c1e-3f8d8ff4b1ec",
   "metadata": {},
   "outputs": [],
   "source": [
    "predicoes = modelo_cv.transform(df_final)"
   ]
  },
  {
   "cell_type": "code",
   "execution_count": 86,
   "id": "0874230b-dd19-4f1d-9a4a-4b01ee480802",
   "metadata": {},
   "outputs": [],
   "source": [
    "rmse = evaluator.evaluate(predicoes)\n",
    "r2 = RegressionEvaluator(labelCol=\"label\", predictionCol=\"prediction\", metricName=\"r2\").evaluate(predicoes)\n"
   ]
  },
  {
   "cell_type": "code",
   "execution_count": 88,
   "id": "d45aaeac-ef66-4b0b-badc-d0739a86a0f5",
   "metadata": {},
   "outputs": [
    {
     "name": "stdout",
     "output_type": "stream",
     "text": [
      "RMSE do melhor Modelo: 88.47\n",
      "R2 do Melohor Modelo : 0.99\n",
      "\n",
      " Melhor Combinacao de Hiperparametros:\n",
      " -> MaxDepth: 10 \n",
      " -> NumTrees: 20 \n"
     ]
    }
   ],
   "source": [
    "melhor_modelo = modelo_cv.bestModel\n",
    "print(f\"RMSE do melhor Modelo: {rsme_grid:.2f}\")\n",
    "print(f\"R2 do Melohor Modelo : {r2_grid:.2f}\")\n",
    "print(\"\\n Melhor Combinacao de Hiperparametros:\")\n",
    "print(f\" -> MaxDepth: {melhor_modelo.getOrDefault('maxDepth')} \")\n",
    "print(f\" -> NumTrees: {melhor_modelo.getOrDefault('numTrees') } \")"
   ]
  }
 ],
 "metadata": {
  "kernelspec": {
   "display_name": "Python 3 (ipykernel)",
   "language": "python",
   "name": "python3"
  },
  "language_info": {
   "codemirror_mode": {
    "name": "ipython",
    "version": 3
   },
   "file_extension": ".py",
   "mimetype": "text/x-python",
   "name": "python",
   "nbconvert_exporter": "python",
   "pygments_lexer": "ipython3",
   "version": "3.11.6"
  }
 },
 "nbformat": 4,
 "nbformat_minor": 5
}
