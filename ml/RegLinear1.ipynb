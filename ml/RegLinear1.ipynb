{
 "cells": [
  {
   "cell_type": "code",
   "execution_count": 3,
   "id": "2eff78fa-06c5-41e0-8b17-302276dbaefd",
   "metadata": {},
   "outputs": [
    {
     "name": "stdout",
     "output_type": "stream",
     "text": [
      "+-------+------+-------+-------+-------+-------+------+\n",
      "|Species|Weight|Length1|Length2|Length3| Height| Width|\n",
      "+-------+------+-------+-------+-------+-------+------+\n",
      "|  Bream| 242.0|   23.2|   25.4|   30.0|  11.52|  4.02|\n",
      "|  Bream| 290.0|   24.0|   26.3|   31.2|  12.48|4.3056|\n",
      "|  Bream| 340.0|   23.9|   26.5|   31.1|12.3778|4.6961|\n",
      "|  Bream| 363.0|   26.3|   29.0|   33.5|  12.73|4.4555|\n",
      "|  Bream| 430.0|   26.5|   29.0|   34.0| 12.444| 5.134|\n",
      "+-------+------+-------+-------+-------+-------+------+\n",
      "only showing top 5 rows\n",
      "\n"
     ]
    }
   ],
   "source": [
    "from pyspark.sql import SparkSession\n",
    "\n",
    "spark = SparkSession.builder.appName(\"RegressaoLinearPeixes\").getOrCreate()\n",
    "\n",
    "# Carregando o dataset Fish.csv\n",
    "dados = spark.read.csv(\"Fish.csv\", header=True, inferSchema=True)\n",
    "dados.show(5)"
   ]
  },
  {
   "cell_type": "code",
   "execution_count": 8,
   "id": "9ba67a1a-b51b-41a6-b053-0f338cd5c0f6",
   "metadata": {},
   "outputs": [
    {
     "name": "stdout",
     "output_type": "stream",
     "text": [
      "+-------+------+-------+-------+-------+-------+------+--------------------+\n",
      "|Species|Weight|Length1|Length2|Length3| Height| Width|            features|\n",
      "+-------+------+-------+-------+-------+-------+------+--------------------+\n",
      "|  Bream| 242.0|   23.2|   25.4|   30.0|  11.52|  4.02|   [23.2,11.52,4.02]|\n",
      "|  Bream| 290.0|   24.0|   26.3|   31.2|  12.48|4.3056| [24.0,12.48,4.3056]|\n",
      "|  Bream| 340.0|   23.9|   26.5|   31.1|12.3778|4.6961|[23.9,12.3778,4.6...|\n",
      "|  Bream| 363.0|   26.3|   29.0|   33.5|  12.73|4.4555| [26.3,12.73,4.4555]|\n",
      "|  Bream| 430.0|   26.5|   29.0|   34.0| 12.444| 5.134| [26.5,12.444,5.134]|\n",
      "|  Bream| 450.0|   26.8|   29.7|   34.7|13.6024|4.9274|[26.8,13.6024,4.9...|\n",
      "|  Bream| 500.0|   26.8|   29.7|   34.5|14.1795|5.2785|[26.8,14.1795,5.2...|\n",
      "|  Bream| 390.0|   27.6|   30.0|   35.0|  12.67|  4.69|   [27.6,12.67,4.69]|\n",
      "|  Bream| 450.0|   27.6|   30.0|   35.1|14.0049|4.8438|[27.6,14.0049,4.8...|\n",
      "|  Bream| 500.0|   28.5|   30.7|   36.2|14.2266|4.9594|[28.5,14.2266,4.9...|\n",
      "|  Bream| 475.0|   28.4|   31.0|   36.2|14.2628|5.1042|[28.4,14.2628,5.1...|\n",
      "|  Bream| 500.0|   28.7|   31.0|   36.2|14.3714|4.8146|[28.7,14.3714,4.8...|\n",
      "|  Bream| 500.0|   29.1|   31.5|   36.4|13.7592| 4.368|[29.1,13.7592,4.368]|\n",
      "|  Bream| 340.0|   29.5|   32.0|   37.3|13.9129|5.0728|[29.5,13.9129,5.0...|\n",
      "|  Bream| 600.0|   29.4|   32.0|   37.2|14.9544|5.1708|[29.4,14.9544,5.1...|\n",
      "|  Bream| 600.0|   29.4|   32.0|   37.2| 15.438|  5.58|  [29.4,15.438,5.58]|\n",
      "|  Bream| 700.0|   30.4|   33.0|   38.3|14.8604|5.2854|[30.4,14.8604,5.2...|\n",
      "|  Bream| 700.0|   30.4|   33.0|   38.5| 14.938|5.1975|[30.4,14.938,5.1975]|\n",
      "|  Bream| 610.0|   30.9|   33.5|   38.6| 15.633|5.1338|[30.9,15.633,5.1338]|\n",
      "|  Bream| 650.0|   31.0|   33.5|   38.7|14.4738|5.7276|[31.0,14.4738,5.7...|\n",
      "+-------+------+-------+-------+-------+-------+------+--------------------+\n",
      "only showing top 20 rows\n",
      "\n"
     ]
    }
   ],
   "source": [
    "from pyspark.ml.feature import VectorAssembler\n",
    "assembler = VectorAssembler(inputCols=['Length1','Height', 'Width'], outputCol='features')\n",
    "dados_simples = assembler.transform(dados)\n",
    "dados_simples.show()"
   ]
  },
  {
   "cell_type": "code",
   "execution_count": 11,
   "id": "f6820ef7-3492-4441-8996-8ef0d3700557",
   "metadata": {},
   "outputs": [],
   "source": [
    "from pyspark.ml.regression import LinearRegression\n",
    "lr = LinearRegression(featuresCol=\"features\", labelCol=\"Weight\")\n",
    "modelo_treinado_simples = lr.fit(dados_simples)"
   ]
  },
  {
   "cell_type": "code",
   "execution_count": 12,
   "id": "ea099724-93a5-4686-bc77-cb561f090d54",
   "metadata": {},
   "outputs": [
    {
     "name": "stdout",
     "output_type": "stream",
     "text": [
      "RMSE (modelo simples): 122.29167129930637\n",
      "R² (modelo simples): 0.8825588337732082\n"
     ]
    }
   ],
   "source": [
    "print(\"RMSE (modelo simples):\", modelo_treinado_simples.summary.rootMeanSquaredError)\n",
    "print(\"R² (modelo simples):\", modelo_treinado_simples.summary.r2)"
   ]
  },
  {
   "cell_type": "code",
   "execution_count": 15,
   "id": "19eb4a9b-e675-425d-916b-1905edc16dcf",
   "metadata": {},
   "outputs": [],
   "source": [
    "previsoes = modelo_treinado_simples.transform(dados_simples).select(\"Weight\", \"prediction\")\n"
   ]
  },
  {
   "cell_type": "code",
   "execution_count": 18,
   "id": "26d3c8a6-4f34-4000-8f19-04d24503af69",
   "metadata": {},
   "outputs": [
    {
     "name": "stdout",
     "output_type": "stream",
     "text": [
      "+------+------------------+\n",
      "|Weight|        prediction|\n",
      "+------+------------------+\n",
      "| 242.0|346.53591956089656|\n",
      "| 290.0|  390.391463848821|\n",
      "| 340.0| 403.9349589040896|\n",
      "| 363.0|  452.585544284203|\n",
      "| 430.0|483.11317562677334|\n",
      "| 450.0| 496.6487406556506|\n",
      "| 500.0| 520.0102327736106|\n",
      "| 390.0|491.58724709346643|\n",
      "| 450.0| 516.6130795581407|\n",
      "| 500.0| 545.1526768101335|\n",
      "+------+------------------+\n",
      "only showing top 10 rows\n",
      "\n"
     ]
    }
   ],
   "source": [
    "previsoes.show(10)"
   ]
  },
  {
   "cell_type": "code",
   "execution_count": null,
   "id": "5ebedb3f-76d6-45a4-af88-1fe86755b0f0",
   "metadata": {},
   "outputs": [],
   "source": [
    "import matplotlib.pyplot as plt\n",
    "\n",
    "# Aplicar modelo ao dataset completo\n",
    "previsoes = modelo_treinado_completo.transform(dados_completo).select(\"Weight\", \"prediction\")\n",
    "\n",
    "# Coletar dados\n",
    "valores_reais = [row[\"Weight\"] for row in previsoes.collect()]\n",
    "valores_previstos = [row[\"prediction\"] for row in previsoes.collect()]\n",
    "residuos = [real - pred for real, pred in zip(valores_reais, valores_previstos)]\n",
    "\n",
    "# Gráfico de resíduos\n",
    "plt.figure(figsize=(10,5))\n",
    "plt.scatter(valores_previstos, residuos)\n",
    "plt.axhline(y=0, color='r', linestyle='--')\n",
    "plt.title(\"Resíduos vs Previsões\")\n",
    "plt.xlabel(\"Peso Previsto\")\n",
    "plt.ylabel(\"Resíduo (Peso Real - Previsto)\")\n",
    "plt.grid(True)\n",
    "plt.show()"
   ]
  },
  {
   "cell_type": "code",
   "execution_count": 24,
   "id": "9decc676-6c2a-429d-9313-5c8227ce9e76",
   "metadata": {},
   "outputs": [],
   "source": [
    "dados_treino,dados_teste = dados_simples.randomSplit([0.8,0.2],seed=42)"
   ]
  },
  {
   "cell_type": "code",
   "execution_count": 38,
   "id": "48707068-bb9b-40a3-85fe-05e24b0fbad5",
   "metadata": {},
   "outputs": [],
   "source": [
    "df1, df2, df3 = dados_simples.randomSplit([0.7,0.2,0.1],seed=42)"
   ]
  },
  {
   "cell_type": "code",
   "execution_count": 25,
   "id": "7d96e5db-5209-4619-bd71-b793bc4419e6",
   "metadata": {},
   "outputs": [],
   "source": [
    "modelo_split = LinearRegression(featuresCol=\"features\", labelCol=\"Weight\")\n",
    "modelo_treinado_split = modelo_split.fit(dados_treino)"
   ]
  },
  {
   "cell_type": "code",
   "execution_count": 26,
   "id": "13180b3d-2367-45ab-b3f4-725efb65b08d",
   "metadata": {},
   "outputs": [
    {
     "name": "stdout",
     "output_type": "stream",
     "text": [
      "+------+------------------+\n",
      "|Weight|        prediction|\n",
      "+------+------------------+\n",
      "| 340.0|426.03839119625536|\n",
      "| 430.0|497.14223891821337|\n",
      "| 450.0| 514.7275687125081|\n",
      "| 500.0| 495.6607841181875|\n",
      "| 650.0| 637.4375085959076|\n",
      "+------+------------------+\n",
      "only showing top 5 rows\n",
      "\n"
     ]
    }
   ],
   "source": [
    "previsoes_teste = modelo_treinado_split.transform(dados_teste)\n",
    "previsoes_teste.select(\"Weight\", \"prediction\").show(5)"
   ]
  },
  {
   "cell_type": "code",
   "execution_count": 30,
   "id": "ea61f5fb-4fc0-4695-9811-0d65d332c804",
   "metadata": {},
   "outputs": [
    {
     "name": "stdout",
     "output_type": "stream",
     "text": [
      "RMSE (teste): 229.6949406666493\n",
      "R² (teste): 0.790293985732079\n"
     ]
    }
   ],
   "source": [
    "from pyspark.ml.evaluation import RegressionEvaluator\n",
    "avaliador = RegressionEvaluator(labelCol=\"Weight\", predictionCol=\"prediction\", metricName=\"rmse\")\n",
    "rmse_teste = avaliador.evaluate(previsoes_teste)\n",
    "\n",
    "avaliador_r2 = RegressionEvaluator(labelCol=\"Weight\", predictionCol=\"prediction\", metricName=\"r2\")\n",
    "r2_teste = avaliador_r2.evaluate(previsoes_teste)\n",
    "\n",
    "print(\"RMSE (teste):\", rmse_teste)\n",
    "print(\"R² (teste):\", r2_teste)"
   ]
  },
  {
   "cell_type": "code",
   "execution_count": 34,
   "id": "6a50a159-cf61-451c-a600-cc65eebddc06",
   "metadata": {},
   "outputs": [
    {
     "data": {
      "image/png": "[encoded data removed]",
      "text/plain": [
       "<Figure size 1000x500 with 1 Axes>"
      ]
     },
     "metadata": {},
     "output_type": "display_data"
    }
   ],
   "source": [
    "import matplotlib.pyplot as plt\n",
    "\n",
    "# Aplicar modelo ao dataset completo\n",
    "previsoes = modelo_treinado_simples.transform(dados_simples).select(\"Weight\", \"prediction\")\n",
    "\n",
    "# Coletar dados\n",
    "valores_reais = [row[\"Weight\"] for row in previsoes.collect()]\n",
    "valores_previstos = [row[\"prediction\"] for row in previsoes.collect()]\n",
    "residuos = [real - pred for real, pred in zip(valores_reais, valores_previstos)]\n",
    "\n",
    "# Gráfico de resíduos\n",
    "plt.figure(figsize=(10,5))\n",
    "plt.scatter(valores_previstos, residuos)\n",
    "plt.axhline(y=0, color='r', linestyle='--')\n",
    "plt.title(\"Resíduos vs Previsões\")\n",
    "plt.xlabel(\"Peso Previsto\")\n",
    "plt.ylabel(\"Resíduo (Peso Real - Previsto)\")\n",
    "plt.grid(True)\n",
    "plt.show()"
   ]
  }
 ],
 "metadata": {
  "kernelspec": {
   "display_name": "Python 3 (ipykernel)",
   "language": "python",
   "name": "python3"
  },
  "language_info": {
   "codemirror_mode": {
    "name": "ipython",
    "version": 3
   },
   "file_extension": ".py",
   "mimetype": "text/x-python",
   "name": "python",
   "nbconvert_exporter": "python",
   "pygments_lexer": "ipython3",
   "version": "3.11.6"
  }
 },
 "nbformat": 4,
 "nbformat_minor": 5
}
