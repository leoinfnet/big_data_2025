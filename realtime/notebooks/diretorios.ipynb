{
 "cells": [
  {
   "cell_type": "code",
   "execution_count": 1,
   "id": "7f084da1-e817-4194-90e8-852f2105e9c5",
   "metadata": {},
   "outputs": [],
   "source": [
    "from pyspark.sql import SparkSession\n",
    "from pyspark.sql.functions import explode, split"
   ]
  },
  {
   "cell_type": "code",
   "execution_count": 2,
   "id": "5b33e833-deb2-4bb4-945a-57b0eeaa2eb0",
   "metadata": {},
   "outputs": [],
   "source": [
    "spark = SparkSession.builder.appName(\"StreamingComVolumeLocal\").getOrCreate()\n"
   ]
  },
  {
   "cell_type": "code",
   "execution_count": 3,
   "id": "798da49f-1fcb-4d43-b984-f4a34a96f797",
   "metadata": {},
   "outputs": [],
   "source": [
    "diretorio = \"/home/jovyan/dados\""
   ]
  },
  {
   "cell_type": "code",
   "execution_count": 5,
   "id": "a0468175-72bc-47fb-95c0-e70e81fef229",
   "metadata": {},
   "outputs": [],
   "source": [
    "linhas_df = spark.readStream.format(\"text\").load(diretorio)"
   ]
  },
  {
   "cell_type": "code",
   "execution_count": 6,
   "id": "1e008718-a243-49df-ba28-cb249516ef16",
   "metadata": {},
   "outputs": [],
   "source": [
    "palavras_df = linhas_df.select(\n",
    "    explode(split(linhas_df.value, \" \")).alias(\"palavra\")\n",
    ")"
   ]
  },
  {
   "cell_type": "code",
   "execution_count": 7,
   "id": "1939e059-c759-4747-bf38-11bb83c0f647",
   "metadata": {},
   "outputs": [],
   "source": [
    "contagem_df = palavras_df.groupBy(\"palavra\").count()"
   ]
  },
  {
   "cell_type": "code",
   "execution_count": null,
   "id": "f0886335-fe65-49f2-bec0-a6773dbc3274",
   "metadata": {},
   "outputs": [],
   "source": [
    "query= contagem_df.writeStream \\\n",
    "        .outputMode(\"complete\") \\\n",
    "        .format(\"console\") \\\n",
    "        .option(\"truncate\",False) \\\n",
    "        .start()\n",
    "query.awaitTermination()"
   ]
  }
 ],
 "metadata": {
  "kernelspec": {
   "display_name": "Python 3 (ipykernel)",
   "language": "python",
   "name": "python3"
  },
  "language_info": {
   "codemirror_mode": {
    "name": "ipython",
    "version": 3
   },
   "file_extension": ".py",
   "mimetype": "text/x-python",
   "name": "python",
   "nbconvert_exporter": "python",
   "pygments_lexer": "ipython3",
   "version": "3.11.6"
  }
 },
 "nbformat": 4,
 "nbformat_minor": 5
}
