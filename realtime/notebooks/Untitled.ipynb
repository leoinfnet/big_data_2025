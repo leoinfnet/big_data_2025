{
 "cells": [
  {
   "cell_type": "code",
   "execution_count": 1,
   "id": "c20e9d15-6b8a-4d8e-99ea-8517522c1d1f",
   "metadata": {},
   "outputs": [],
   "source": [
    "from pyspark.sql import SparkSession\n",
    "\n",
    "spark = SparkSession.builder \\\n",
    "    .appName(\"SalaDeBatePapoStreaming\") \\\n",
    "    .getOrCreate()"
   ]
  },
  {
   "cell_type": "code",
   "execution_count": 3,
   "id": "b575b3ba-6f4e-4824-993d-2ea51fb316e9",
   "metadata": {},
   "outputs": [],
   "source": [
    "df_raw = spark.readStream.format(\"socket\") \\\n",
    "        .option(\"host\", \"websocat\") \\\n",
    "        .option(\"port\", \"9999\") \\\n",
    "        .load()\n"
   ]
  },
  {
   "cell_type": "code",
   "execution_count": 12,
   "id": "4ac7318c-6bc5-4040-ad38-f551140fb4bd",
   "metadata": {},
   "outputs": [],
   "source": [
    "from pyspark.sql.functions import split, col,size\n",
    "valores = split(col(\"value\"),\" \")\n",
    "df_palavras = df_raw.withColumn(\"palavras\", split(col(\"value\"),\" \")) \\\n",
    "                        .withColumn(\"qtd_palavras\", size(col(\"palavras\")))"
   ]
  },
  {
   "cell_type": "code",
   "execution_count": 6,
   "id": "54bc13da-b572-47f9-a17b-46ffff629116",
   "metadata": {},
   "outputs": [],
   "source": [
    "from pyspark.sql.functions import expr\n"
   ]
  },
  {
   "cell_type": "code",
   "execution_count": 10,
   "id": "1efd5343-4fd2-41cb-9ec5-ef8eb62b2b4e",
   "metadata": {},
   "outputs": [],
   "source": [
    "palavras_suspeitas = {\"ataque\", \"bomba\", \"ameaça\", \"hack\", \"invasão\", \"segredo\", \"explosivo\"}\n"
   ]
  },
  {
   "cell_type": "code",
   "execution_count": 8,
   "id": "56071008-bd73-4b00-bf17-cf8f85ffafcc",
   "metadata": {},
   "outputs": [],
   "source": [
    "condicao_alerta = expr(\" OR \".join([f\"array_contains(palavras, '{p}')\" for p in palavras_suspeitas]))\n"
   ]
  },
  {
   "cell_type": "code",
   "execution_count": 13,
   "id": "c666044a-66d2-429f-b949-bcb5723f7f3c",
   "metadata": {},
   "outputs": [],
   "source": [
    "df_alertas = df_palavras.filter(condicao_alerta)"
   ]
  },
  {
   "cell_type": "code",
   "execution_count": 14,
   "id": "733799a7-6a0b-414c-a71f-d2f3dbd733c8",
   "metadata": {},
   "outputs": [
    {
     "data": {
      "text/plain": [
       "<pyspark.sql.streaming.query.StreamingQuery at 0xffffac1a2810>"
      ]
     },
     "execution_count": 14,
     "metadata": {},
     "output_type": "execute_result"
    }
   ],
   "source": [
    "df_alertas.writeStream \\\n",
    "    .outputMode(\"append\") \\\n",
    "    .format(\"console\") \\\n",
    "    .option(\"truncate\", False) \\\n",
    "    .start()"
   ]
  }
 ],
 "metadata": {
  "kernelspec": {
   "display_name": "Python 3 (ipykernel)",
   "language": "python",
   "name": "python3"
  },
  "language_info": {
   "codemirror_mode": {
    "name": "ipython",
    "version": 3
   },
   "file_extension": ".py",
   "mimetype": "text/x-python",
   "name": "python",
   "nbconvert_exporter": "python",
   "pygments_lexer": "ipython3",
   "version": "3.11.6"
  }
 },
 "nbformat": 4,
 "nbformat_minor": 5
}
