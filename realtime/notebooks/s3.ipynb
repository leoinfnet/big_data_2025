{
 "cells": [
  {
   "cell_type": "code",
   "execution_count": 1,
   "id": "f0df1035-9fc0-4c6b-bd3c-de83df7dc928",
   "metadata": {},
   "outputs": [],
   "source": [
    "from pyspark.sql import SparkSession\n",
    "\n",
    "spark = SparkSession.builder \\\n",
    "    .appName(\"Multifonte Spark\") \\\n",
    "    .config(\n",
    "        \"spark.jars.packages\",\n",
    "        \",\".join([\n",
    "            \"org.postgresql:postgresql:42.6.0\",\n",
    "            \"org.apache.hadoop:hadoop-aws:3.3.4\"\n",
    "        ])\n",
    "    ) \\\n",
    "    .config(\"spark.hadoop.fs.s3a.endpoint\", \"http://minio:9000\") \\\n",
    "    .config(\"spark.hadoop.fs.s3a.access.key\", \"minioadmin\") \\\n",
    "    .config(\"spark.hadoop.fs.s3a.secret.key\", \"minioadmin\") \\\n",
    "    .config(\"spark.hadoop.fs.s3a.path.style.access\", \"true\") \\\n",
    "    .config(\"spark.hadoop.fs.s3a.impl\", \"org.apache.hadoop.fs.s3a.S3AFileSystem\") \\\n",
    "    .getOrCreate()"
   ]
  },
  {
   "cell_type": "code",
   "execution_count": 2,
   "id": "9b37513c-d11c-4b34-b4f3-b8f038fb7c4c",
   "metadata": {},
   "outputs": [],
   "source": [
    "caminho = \"s3a://dados/\""
   ]
  },
  {
   "cell_type": "code",
   "execution_count": 3,
   "id": "e9184166-a85a-4561-9e47-402fa2d18ae8",
   "metadata": {},
   "outputs": [],
   "source": [
    "df = spark.readStream.format(\"csv\") \\\n",
    "         .option(\"header\", \"true\") \\\n",
    "         .schema(\"nome STRING, idade INT\") \\\n",
    "         .load(caminho)"
   ]
  },
  {
   "cell_type": "code",
   "execution_count": 4,
   "id": "11a9e13b-3dd5-434d-9db0-3804005d938e",
   "metadata": {},
   "outputs": [],
   "source": [
    "contagem = df.groupBy(\"nome\").count()\n",
    "    "
   ]
  },
  {
   "cell_type": "code",
   "execution_count": 6,
   "id": "e10373b3-9975-426a-87e3-eb42944dd784",
   "metadata": {},
   "outputs": [],
   "source": [
    "def salvar_no_postgres(batch_df,epoch_id):\n",
    "        batch_df.write \\\n",
    "             .format(\"jdbc\") \\\n",
    "             .option(\"url\", \"jdbc:postgresql://postgres_streaming:5432/streaming\") \\\n",
    "             .option(\"dbtable\", \"resultados\") \\\n",
    "             .option(\"user\", \"spark\") \\\n",
    "            .option(\"password\", \"spark123\") \\\n",
    "             .option(\"driver\", \"org.postgresql.Driver\") \\\n",
    "            .mode(\"append\") \\\n",
    "            .save()"
   ]
  },
  {
   "cell_type": "code",
   "execution_count": 7,
   "id": "7ca8ae3b-c836-459f-b3fe-4151bc8b1925",
   "metadata": {},
   "outputs": [
    {
     "data": {
      "text/plain": [
       "<pyspark.sql.streaming.query.StreamingQuery at 0xffff9cfd35d0>"
      ]
     },
     "execution_count": 7,
     "metadata": {},
     "output_type": "execute_result"
    }
   ],
   "source": [
    "contagem.writeStream \\\n",
    "    .outputMode(\"complete\") \\\n",
    "    .foreachBatch(salvar_no_postgres) \\\n",
    "    .start()"
   ]
  },
  {
   "cell_type": "code",
   "execution_count": null,
   "id": "81808906-d28a-472a-89bc-f5eb418a654a",
   "metadata": {},
   "outputs": [],
   "source": []
  }
 ],
 "metadata": {
  "kernelspec": {
   "display_name": "Python 3 (ipykernel)",
   "language": "python",
   "name": "python3"
  },
  "language_info": {
   "codemirror_mode": {
    "name": "ipython",
    "version": 3
   },
   "file_extension": ".py",
   "mimetype": "text/x-python",
   "name": "python",
   "nbconvert_exporter": "python",
   "pygments_lexer": "ipython3",
   "version": "3.11.6"
  }
 },
 "nbformat": 4,
 "nbformat_minor": 5
}
